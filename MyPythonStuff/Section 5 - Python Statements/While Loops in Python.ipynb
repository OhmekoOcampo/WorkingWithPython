{
 "cells": [
  {
   "cell_type": "code",
   "execution_count": 1,
   "id": "7a176290",
   "metadata": {},
   "outputs": [],
   "source": [
    "##### While Loops in Python"
   ]
  },
  {
   "cell_type": "code",
   "execution_count": 4,
   "id": "5f132abb",
   "metadata": {},
   "outputs": [
    {
     "name": "stdout",
     "output_type": "stream",
     "text": [
      "The current value of x is 0\n",
      "The current value of x is 1\n",
      "The current value of x is 2\n",
      "The current value of x is 3\n",
      "The current value of x is 4\n",
      "X IS NOT LESS THAN 5\n"
     ]
    }
   ],
   "source": [
    "x = 0\n",
    "\n",
    "while x < 5:\n",
    "    print(f'The current value of x is {x}')\n",
    "    x = x + 1\n",
    "else:\n",
    "    print(\"X IS NOT LESS THAN 5\")"
   ]
  },
  {
   "cell_type": "markdown",
   "id": "03948107",
   "metadata": {},
   "source": [
    "### break, continue, pass\n",
    "\n",
    "We can use break, continue, and pass statements in our loops to add additional functionality for various cases. The three statements are defined by:\n",
    "\n",
    "break: Breaks out of the current closest enclosing loop.\n",
    "continue: Goes to the top of the closest enclosing loop.\n",
    "pass: Does nothing at all. "
   ]
  },
  {
   "cell_type": "code",
   "execution_count": 7,
   "id": "78eb9207",
   "metadata": {},
   "outputs": [
    {
     "name": "stdout",
     "output_type": "stream",
     "text": [
      "end of my script\n"
     ]
    }
   ],
   "source": [
    "x = [1,2,3]\n",
    "\n",
    "for item in x: \n",
    "    # comment\n",
    "    pass\n",
    "\n",
    "print('end of my script')"
   ]
  },
  {
   "cell_type": "code",
   "execution_count": 8,
   "id": "0698fed0",
   "metadata": {},
   "outputs": [
    {
     "name": "stdout",
     "output_type": "stream",
     "text": [
      "S\n",
      "m\n",
      "m\n",
      "y\n"
     ]
    }
   ],
   "source": [
    "mystring = 'Sammy'\n",
    "\n",
    "for letter in mystring:\n",
    "    if letter == 'a':\n",
    "        continue\n",
    "    print(letter)"
   ]
  },
  {
   "cell_type": "code",
   "execution_count": 9,
   "id": "5638a609",
   "metadata": {},
   "outputs": [
    {
     "name": "stdout",
     "output_type": "stream",
     "text": [
      "S\n"
     ]
    }
   ],
   "source": [
    "mystring = 'Sammy'\n",
    "\n",
    "for letter in mystring:\n",
    "    if letter == 'a':\n",
    "        break\n",
    "    print(letter)"
   ]
  },
  {
   "cell_type": "code",
   "execution_count": 12,
   "id": "18d72270",
   "metadata": {},
   "outputs": [
    {
     "name": "stdout",
     "output_type": "stream",
     "text": [
      "0\n",
      "1\n"
     ]
    }
   ],
   "source": [
    "x = 0\n",
    "\n",
    "while x < 5:\n",
    "    if x == 2:\n",
    "        break\n",
    "    print(x)\n",
    "    x += 1"
   ]
  },
  {
   "cell_type": "code",
   "execution_count": null,
   "id": "95e661b1",
   "metadata": {},
   "outputs": [],
   "source": []
  }
 ],
 "metadata": {
  "kernelspec": {
   "display_name": "Python 3 (ipykernel)",
   "language": "python",
   "name": "python3"
  },
  "language_info": {
   "codemirror_mode": {
    "name": "ipython",
    "version": 3
   },
   "file_extension": ".py",
   "mimetype": "text/x-python",
   "name": "python",
   "nbconvert_exporter": "python",
   "pygments_lexer": "ipython3",
   "version": "3.9.7"
  }
 },
 "nbformat": 4,
 "nbformat_minor": 5
}
